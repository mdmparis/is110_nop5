{
 "cells": [
  {
   "cell_type": "code",
   "execution_count": 27,
   "metadata": {},
   "outputs": [],
   "source": [
    "import numpy as np\n",
    "from Bio import AlignIO\n",
    "from Bio.Align import MultipleSeqAlignment\n",
    "from Bio.SeqRecord import SeqRecord\n",
    "import tqdm"
   ]
  },
  {
   "cell_type": "code",
   "execution_count": 28,
   "metadata": {},
   "outputs": [],
   "source": [
    "# Open the fasta file\n",
    "nter_names, cter_names, cc_names = set(), set(), set()\n",
    "with open(\"data/cat_all_n-ter.afa\", \"r\") as f:\n",
    "    nter_al = AlignIO.read(f, \"fasta\")\n",
    "    for rec in nter_al:\n",
    "        id_short = rec.id.split(\":\")[0]\n",
    "        rec.id = id_short\n",
    "        nter_names.add(rec.id)\n",
    "\n",
    "with open(\"data/c_ter.afa\", \"r\") as f:\n",
    "    cter_al = AlignIO.read(f, \"fasta\")\n",
    "    for rec in cter_al:\n",
    "        id_short = rec.id.split(\":\")[0]\n",
    "        rec.id = id_short\n",
    "        cter_names.add(rec.id)\n",
    "\n",
    "with open(\"data/coiled_coil.afa\", \"r\") as f:\n",
    "    cc_al = AlignIO.read(f, \"fasta\")\n",
    "    for rec in cc_al:\n",
    "        id_short = rec.id.split(\":\")[0]\n",
    "        rec.id = id_short\n",
    "        cc_names.add(rec.id)"
   ]
  },
  {
   "cell_type": "code",
   "execution_count": 29,
   "metadata": {},
   "outputs": [
    {
     "name": "stdout",
     "output_type": "stream",
     "text": [
      "3548 2763 2495\n"
     ]
    }
   ],
   "source": [
    "print(len(nter_al), len(cc_al), len(cter_al))"
   ]
  },
  {
   "cell_type": "code",
   "execution_count": 30,
   "metadata": {},
   "outputs": [],
   "source": [
    "def get_record(alignment, rec_id):\n",
    "    for rec in alignment:\n",
    "        if rec.id.startswith(rec_id):\n",
    "            return rec\n",
    "    return None"
   ]
  },
  {
   "cell_type": "code",
   "execution_count": 31,
   "metadata": {},
   "outputs": [
    {
     "name": "stderr",
     "output_type": "stream",
     "text": [
      "100%|██████████| 3548/3548 [00:01<00:00, 2172.90it/s]\n"
     ]
    },
    {
     "name": "stdout",
     "output_type": "stream",
     "text": [
      "3520\n"
     ]
    },
    {
     "name": "stderr",
     "output_type": "stream",
     "text": [
      "100%|██████████| 2763/2763 [00:00<00:00, 9768.44it/s]\n",
      "100%|██████████| 2495/2495 [00:03<00:00, 768.00it/s] \n",
      "100%|██████████| 3903/3903 [00:04<00:00, 895.50it/s] \n"
     ]
    },
    {
     "data": {
      "text/plain": [
       "1"
      ]
     },
     "execution_count": 31,
     "metadata": {},
     "output_type": "execute_result"
    }
   ],
   "source": [
    "# Concatenate N-Terminal alignment with Coiled-Coil alignment\n",
    "cat_nter_cc = MultipleSeqAlignment([])\n",
    "already_visited = set()\n",
    "cc_len = cc_al.get_alignment_length()\n",
    "for rec in tqdm.tqdm(nter_al):\n",
    "    if not rec.id in already_visited:\n",
    "        if rec.id in cc_names:\n",
    "            add_rec = get_record(cc_al, rec.id)\n",
    "            cat_seq = rec.seq + add_rec.seq\n",
    "            cat_rec = SeqRecord(seq=cat_seq, id=rec.id)\n",
    "        else:  # the sequence from N-Ter aln is not in Coiled-coil alignment\n",
    "            cat_seq = rec.seq + \"\".join([\"-\" for i in range(cc_len)])  # add gaps '-' everywhere in the CC alignment because seq doesn't have this domain\n",
    "            cat_rec = SeqRecord(seq=cat_seq, id=rec.id)\n",
    "        cat_nter_cc.append(cat_rec)\n",
    "        already_visited.add(rec.id)\n",
    "cat_nter_cc_names = set([rec.id for rec in cat_nter_cc])\n",
    "cat_len = cat_nter_cc.get_alignment_length()\n",
    "print(len(cat_nter_cc))\n",
    "# Append sequences which are present in cc_al but have no N-Terminal domain\n",
    "len_nter = nter_al.get_alignment_length()\n",
    "len_cat_nter_cc = cat_nter_cc.get_alignment_length()\n",
    "for rec in tqdm.tqdm(cc_al):\n",
    "    if not rec.id in cat_nter_cc_names:\n",
    "        cat_seq = \"\".join([\"-\" for k in range(len_nter)]) + rec.seq\n",
    "        cat_rec = SeqRecord(seq=cat_seq, id=rec.id)\n",
    "        cat_nter_cc.append(cat_rec)\n",
    "        cat_nter_cc_names.add(rec.id)\n",
    "\n",
    "AlignIO.write(cat_nter_cc, \"data/cat_n-ter_coiled-coil_with-ruvc-like.afa\", \"fasta\")\n",
    "\n",
    "# Concatenate [N-Ter, CC] alignment with C-Terminal alignment\n",
    "cat_nter_cc_cter = MultipleSeqAlignment([])\n",
    "already_visited = set()\n",
    "cter_len = cter_al.get_alignment_length()\n",
    "for rec in tqdm.tqdm(cter_al):\n",
    "    if not rec.id in already_visited:\n",
    "        if rec.id in cat_nter_cc_names:\n",
    "            add_rec = get_record(cat_nter_cc, rec.id)\n",
    "            cat_seq = add_rec.seq + rec.seq  # append C-Ter to the right\n",
    "            cat_rec = SeqRecord(seq=cat_seq, id=rec.id)\n",
    "        else:\n",
    "            cat_seq = \"\".join([\"-\" for i in range(cat_len)]) + rec.seq  # append gaps to the left/C-Ter to the right\n",
    "            cat_rec = SeqRecord(seq=cat_seq, id=rec.id)\n",
    "        cat_nter_cc_cter.append(cat_rec)\n",
    "        already_visited.add(rec.id)\n",
    "cat_nter_cc_cter_names = set([rec.id for rec in cat_nter_cc_cter])\n",
    "\n",
    "# Append sequences which are present in nter_cc_al but have no C-Terminal domain\n",
    "len_nter_cc = cat_nter_cc.get_alignment_length()\n",
    "len_nter_cc_cter = cat_nter_cc_cter.get_alignment_length()\n",
    "for rec in tqdm.tqdm(cat_nter_cc):\n",
    "    if not rec.id in cat_nter_cc_cter_names:\n",
    "        cat_seq = rec.seq + \"\".join([\"-\" for k in range(cter_al.get_alignment_length())])\n",
    "        cat_rec = SeqRecord(seq=cat_seq, id=rec.id)\n",
    "        cat_nter_cc_cter.append(cat_rec)\n",
    "        cat_nter_cc_cter_names.add(rec.id)\n",
    "\n",
    "AlignIO.write(cat_nter_cc_cter, \"data/cat_n-ter_coiled-coil_c-ter_with-ruvc-like.afa\", \"fasta\")"
   ]
  },
  {
   "cell_type": "code",
   "execution_count": 25,
   "metadata": {},
   "outputs": [
    {
     "name": "stdout",
     "output_type": "stream",
     "text": [
      "3227 3274\n"
     ]
    }
   ],
   "source": [
    "nter_cc_names = set()\n",
    "with open(\"data/cat_n-ter_coiled-coil.afa\", \"r\") as f:\n",
    "    nter_cc_al = AlignIO.read(f, \"fasta\")\n",
    "    for rec in nter_cc_al:\n",
    "        id_short = rec.id.split(\":\")[0]\n",
    "        rec.id = id_short\n",
    "        nter_cc_names.add(rec.id)\n",
    "\n",
    "nter_cc_cter_names = set()\n",
    "with open(\"data/cat_n-ter_coiled-coil_c-ter.afa\", \"r\") as f:\n",
    "    nter_cc_cter_al = AlignIO.read(f, \"fasta\")\n",
    "    for rec in nter_cc_cter_al:\n",
    "        id_short = rec.id.split(\":\")[0]\n",
    "        rec.id = id_short\n",
    "        nter_cc_cter_names.add(rec.id)\n",
    "\n",
    "print(len(nter_cc_al), len(nter_cc_cter_al))"
   ]
  }
 ],
 "metadata": {
  "kernelspec": {
   "display_name": "base",
   "language": "python",
   "name": "python3"
  },
  "language_info": {
   "codemirror_mode": {
    "name": "ipython",
    "version": 3
   },
   "file_extension": ".py",
   "mimetype": "text/x-python",
   "name": "python",
   "nbconvert_exporter": "python",
   "pygments_lexer": "ipython3",
   "version": "3.12.2"
  }
 },
 "nbformat": 4,
 "nbformat_minor": 2
}
